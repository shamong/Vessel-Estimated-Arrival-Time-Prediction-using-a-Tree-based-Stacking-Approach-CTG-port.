{
  "nbformat": 4,
  "nbformat_minor": 0,
  "metadata": {
    "colab": {
      "provenance": []
    },
    "kernelspec": {
      "name": "python3",
      "display_name": "Python 3"
    },
    "language_info": {
      "name": "python"
    }
  },
  "cells": [
    {
      "cell_type": "code",
      "execution_count": null,
      "metadata": {
        "id": "LjF3CdbBwwP5"
      },
      "outputs": [],
      "source": [
        "import pandas as pd\n",
        "import numpy as np\n",
        "from sklearn.model_selection import train_test_split\n",
        "from sklearn.preprocessing import StandardScaler\n",
        "from sklearn.metrics import mean_absolute_error, mean_squared_error, r2_score\n",
        "import tensorflow as tf\n",
        "from tensorflow.keras.models import Sequential\n",
        "from tensorflow.keras.layers import Dense\n",
        "from tensorflow.keras.optimizers import Adam"
      ]
    },
    {
      "cell_type": "code",
      "source": [
        "# Load your CSV data\n",
        "data = pd.read_csv('/content/FeatureEngineering - Sheet1.csv',\n",
        "                   parse_dates=['DepartureTime', 'ArrivalTime'],\n",
        "                   infer_datetime_format=True)\n",
        "\n",
        "# Inspect your data (Column names will reflect the new ones)\n",
        "print(data.head())  # Print first few rows\n",
        "print(data.info())  # Information about columns, data types, etc.\n",
        "print(data.describe())  # Summary statistics\n",
        "print(data.isna().sum())  # Count of missing values per column"
      ],
      "metadata": {
        "colab": {
          "base_uri": "https://localhost:8080/"
        },
        "id": "LPxGaN9KxEls",
        "outputId": "972383d9-3504-431b-a414-8998d43ae94f"
      },
      "execution_count": null,
      "outputs": [
        {
          "output_type": "stream",
          "name": "stdout",
          "text": [
            "        MMSI       DepartureTime      LATd      LONd         ArrivalTime  \\\n",
            "0  205366000 2017-11-26 19:51:00  57.40660  21.53463 2017-11-26 19:51:00   \n",
            "1  205366000 2017-11-27 13:18:00  57.40660  21.53437 2017-12-28 13:57:00   \n",
            "2  205366000 2018-06-02 07:38:00  54.16003  12.14130 2018-06-03 05:43:00   \n",
            "3  205366000 2018-06-03 12:16:00  57.59602  11.69184 2018-06-08 05:43:00   \n",
            "4  205366000 2018-09-15 08:27:00  59.42259  27.72447 2018-10-01 15:16:00   \n",
            "\n",
            "       LATa      LONa  AVGSPDkmph  DistanceKm  VesselType  Length  Width  \\\n",
            "0  57.40660  21.53463       28.65   723.43028        80.0   143.0   21.0   \n",
            "1  54.16002  12.14124        2.73  2030.43443        80.0   143.0   21.0   \n",
            "2  57.59724  11.69437       21.09   465.67234        80.0   143.0   21.0   \n",
            "3  54.16005  12.14124        5.49   622.78374        80.0   143.0   21.0   \n",
            "4  54.16008  12.14128        6.03  2356.37863        80.0   143.0   21.0   \n",
            "\n",
            "   Draft  \n",
            "0    8.2  \n",
            "1    8.2  \n",
            "2    8.2  \n",
            "3    8.2  \n",
            "4    8.2  \n",
            "<class 'pandas.core.frame.DataFrame'>\n",
            "RangeIndex: 1250 entries, 0 to 1249\n",
            "Data columns (total 13 columns):\n",
            " #   Column         Non-Null Count  Dtype         \n",
            "---  ------         --------------  -----         \n",
            " 0   MMSI           1250 non-null   int64         \n",
            " 1   DepartureTime  1250 non-null   datetime64[ns]\n",
            " 2   LATd           1250 non-null   float64       \n",
            " 3   LONd           1250 non-null   float64       \n",
            " 4   ArrivalTime    1250 non-null   datetime64[ns]\n",
            " 5   LATa           1250 non-null   float64       \n",
            " 6   LONa           1250 non-null   float64       \n",
            " 7   AVGSPDkmph     1250 non-null   float64       \n",
            " 8   DistanceKm     1250 non-null   float64       \n",
            " 9   VesselType     1250 non-null   float64       \n",
            " 10  Length         1250 non-null   float64       \n",
            " 11  Width          1250 non-null   float64       \n",
            " 12  Draft          1250 non-null   float64       \n",
            "dtypes: datetime64[ns](2), float64(10), int64(1)\n",
            "memory usage: 127.1 KB\n",
            "None\n",
            "               MMSI         LATd         LONd         LATa         LONa  \\\n",
            "count  1.250000e+03  1250.000000  1250.000000  1250.000000  1250.000000   \n",
            "mean   4.082065e+08    56.426478    15.080739    57.911322    20.608462   \n",
            "std    1.414919e+08     2.578886     5.851866     2.574397     8.244196   \n",
            "min    2.053660e+08    53.560480     9.423990    53.891450     9.423970   \n",
            "25%    3.056890e+08    54.366040    10.143060    55.617980    11.804100   \n",
            "50%    4.090140e+08    55.515945    12.122785    58.897090    21.188595   \n",
            "75%    5.095300e+08    58.137530    20.200630    59.881020    30.198490   \n",
            "max    6.112043e+08    65.547070    30.231950    65.544720    30.232220   \n",
            "\n",
            "        AVGSPDkmph   DistanceKm   VesselType       Length        Width  \\\n",
            "count  1250.000000  1250.000000  1250.000000  1250.000000  1250.000000   \n",
            "mean     16.202880   911.479533    70.560000   109.032000    16.456000   \n",
            "std       5.591207   628.166782     2.300137    30.726495     5.578186   \n",
            "min       1.320000   136.735930    70.000000    79.000000    10.000000   \n",
            "25%      13.980000   398.474380    70.000000    88.000000    12.000000   \n",
            "50%      16.470000   792.276165    70.000000    89.000000    14.000000   \n",
            "75%      18.950000  1459.180000    70.000000   138.000000    20.000000   \n",
            "max      30.180000  4772.070000    80.000000   229.000000    46.000000   \n",
            "\n",
            "             Draft  \n",
            "count  1250.000000  \n",
            "mean      6.249200  \n",
            "std       1.794682  \n",
            "min       3.400000  \n",
            "25%       5.000000  \n",
            "50%       5.500000  \n",
            "75%       7.600000  \n",
            "max      15.300000  \n",
            "MMSI             0\n",
            "DepartureTime    0\n",
            "LATd             0\n",
            "LONd             0\n",
            "ArrivalTime      0\n",
            "LATa             0\n",
            "LONa             0\n",
            "AVGSPDkmph       0\n",
            "DistanceKm       0\n",
            "VesselType       0\n",
            "Length           0\n",
            "Width            0\n",
            "Draft            0\n",
            "dtype: int64\n"
          ]
        }
      ]
    },
    {
      "cell_type": "code",
      "source": [
        "# Handle missing values\n",
        "data.fillna(method='ffill', inplace=True)\n",
        "\n",
        "# Extract features\n",
        "data['DepartureTime'] = pd.to_datetime(data['DepartureTime'], format=\"%Y-%m-%d %H:%M:%S\")\n",
        "data['ArrivalTime'] = pd.to_datetime(data['ArrivalTime'], format=\"%Y-%m-%d %H:%M:%S\")\n",
        "data['DepartureHour'] = data['DepartureTime'].dt.hour\n",
        "\n",
        "# Convert ArrivalTime to Unix timestamps (for target variable)\n",
        "data['ArrivalTime_unix'] = data['ArrivalTime'].astype(np.int64) // 10**9"
      ],
      "metadata": {
        "id": "LV_x_c3SxHz7"
      },
      "execution_count": null,
      "outputs": []
    },
    {
      "cell_type": "code",
      "source": [
        "# Select features and target variable\n",
        "X = data[['MMSI', 'LATd', 'LONd', 'LATa', 'LONa', 'AVGSPDkmph', 'DistanceKm', 'DepartureHour', 'VesselType', 'Length', 'Width', 'Draft']]\n",
        "y = data['ArrivalTime_unix']\n",
        "\n",
        "# Train-Test Split\n",
        "X_train, X_test, y_train, y_test = train_test_split(X, y, test_size=0.2, random_state=42)\n",
        "\n",
        "# Feature Scaling\n",
        "scaler = StandardScaler()\n",
        "X_train_scaled = scaler.fit_transform(X_train)\n",
        "X_test_scaled = scaler.transform(X_test)"
      ],
      "metadata": {
        "id": "BdP3efAMxM-i"
      },
      "execution_count": null,
      "outputs": []
    },
    {
      "cell_type": "code",
      "source": [
        "# Model definition (for regression)\n",
        "model = Sequential()\n",
        "model.add(Dense(units=32, activation='relu', input_shape=(X_train_scaled.shape[1],)))\n",
        "model.add(Dense(units=16, activation='relu'))\n",
        "model.add(Dense(units=1, activation='linear'))  # Output layer with 1 neuron for ArrivalTime prediction (in Unix timestamps)"
      ],
      "metadata": {
        "id": "6KrWgvvJxTvD"
      },
      "execution_count": null,
      "outputs": []
    },
    {
      "cell_type": "code",
      "source": [
        "# Model training\n",
        "model.compile(optimizer='adam', loss='mean_squared_error')  # Compile the model\n",
        "history = model.fit(X_train_scaled, y_train, epochs=50, batch_size=32, validation_data=(X_test_scaled, y_test))"
      ],
      "metadata": {
        "colab": {
          "base_uri": "https://localhost:8080/"
        },
        "id": "iBcvmYwexi6H",
        "outputId": "31dc18ad-8015-4ab1-8779-1cc52176b796"
      },
      "execution_count": null,
      "outputs": [
        {
          "output_type": "stream",
          "name": "stdout",
          "text": [
            "Epoch 1/50\n",
            "32/32 [==============================] - 6s 47ms/step - loss: 2336554568000733184.0000 - val_loss: 2338898451913244672.0000\n",
            "Epoch 2/50\n",
            "32/32 [==============================] - 0s 12ms/step - loss: 2336554568000733184.0000 - val_loss: 2338898451913244672.0000\n",
            "Epoch 3/50\n",
            "32/32 [==============================] - 0s 12ms/step - loss: 2336554293122826240.0000 - val_loss: 2338898451913244672.0000\n",
            "Epoch 4/50\n",
            "32/32 [==============================] - 0s 13ms/step - loss: 2336554568000733184.0000 - val_loss: 2338898451913244672.0000\n",
            "Epoch 5/50\n",
            "32/32 [==============================] - 0s 11ms/step - loss: 2336554293122826240.0000 - val_loss: 2338898451913244672.0000\n",
            "Epoch 6/50\n",
            "32/32 [==============================] - 1s 21ms/step - loss: 2336554293122826240.0000 - val_loss: 2338898177035337728.0000\n",
            "Epoch 7/50\n",
            "32/32 [==============================] - 0s 14ms/step - loss: 2336554568000733184.0000 - val_loss: 2338898177035337728.0000\n",
            "Epoch 8/50\n",
            "32/32 [==============================] - 0s 6ms/step - loss: 2336554018244919296.0000 - val_loss: 2338898177035337728.0000\n",
            "Epoch 9/50\n",
            "32/32 [==============================] - 0s 11ms/step - loss: 2336553743367012352.0000 - val_loss: 2338898177035337728.0000\n",
            "Epoch 10/50\n",
            "32/32 [==============================] - 0s 15ms/step - loss: 2336553743367012352.0000 - val_loss: 2338897902157430784.0000\n",
            "Epoch 11/50\n",
            "32/32 [==============================] - 0s 8ms/step - loss: 2336553468489105408.0000 - val_loss: 2338897902157430784.0000\n",
            "Epoch 12/50\n",
            "32/32 [==============================] - 0s 10ms/step - loss: 2336553468489105408.0000 - val_loss: 2338897077523709952.0000\n",
            "Epoch 13/50\n",
            "32/32 [==============================] - 0s 13ms/step - loss: 2336552918733291520.0000 - val_loss: 2338897077523709952.0000\n",
            "Epoch 14/50\n",
            "32/32 [==============================] - 0s 8ms/step - loss: 2336552643855384576.0000 - val_loss: 2338896527767896064.0000\n",
            "Epoch 15/50\n",
            "32/32 [==============================] - 0s 7ms/step - loss: 2336552643855384576.0000 - val_loss: 2338895978012082176.0000\n",
            "Epoch 16/50\n",
            "32/32 [==============================] - 0s 11ms/step - loss: 2336551544343756800.0000 - val_loss: 2338895703134175232.0000\n",
            "Epoch 17/50\n",
            "32/32 [==============================] - 0s 9ms/step - loss: 2336551269465849856.0000 - val_loss: 2338894878500454400.0000\n",
            "Epoch 18/50\n",
            "32/32 [==============================] - 0s 10ms/step - loss: 2336550719710035968.0000 - val_loss: 2338894328744640512.0000\n",
            "Epoch 19/50\n",
            "32/32 [==============================] - 0s 3ms/step - loss: 2336549895076315136.0000 - val_loss: 2338893504110919680.0000\n",
            "Epoch 20/50\n",
            "32/32 [==============================] - 0s 4ms/step - loss: 2336548795564687360.0000 - val_loss: 2338892679477198848.0000\n",
            "Epoch 21/50\n",
            "32/32 [==============================] - 0s 3ms/step - loss: 2336547970930966528.0000 - val_loss: 2338891579965571072.0000\n",
            "Epoch 22/50\n",
            "32/32 [==============================] - 0s 3ms/step - loss: 2336547421175152640.0000 - val_loss: 2338890755331850240.0000\n",
            "Epoch 23/50\n",
            "32/32 [==============================] - 0s 3ms/step - loss: 2336546321663524864.0000 - val_loss: 2338889655820222464.0000\n",
            "Epoch 24/50\n",
            "32/32 [==============================] - 0s 3ms/step - loss: 2336544672396083200.0000 - val_loss: 2338888556308594688.0000\n",
            "Epoch 25/50\n",
            "32/32 [==============================] - 0s 3ms/step - loss: 2336543572884455424.0000 - val_loss: 2338887181919059968.0000\n",
            "Epoch 26/50\n",
            "32/32 [==============================] - 0s 3ms/step - loss: 2336542198494920704.0000 - val_loss: 2338885532651618304.0000\n",
            "Epoch 27/50\n",
            "32/32 [==============================] - 0s 3ms/step - loss: 2336540549227479040.0000 - val_loss: 2338884158262083584.0000\n",
            "Epoch 28/50\n",
            "32/32 [==============================] - 0s 3ms/step - loss: 2336538899960037376.0000 - val_loss: 2338882508994641920.0000\n",
            "Epoch 29/50\n",
            "32/32 [==============================] - 0s 3ms/step - loss: 2336537525570502656.0000 - val_loss: 2338880859727200256.0000\n",
            "Epoch 30/50\n",
            "32/32 [==============================] - 0s 3ms/step - loss: 2336535601425154048.0000 - val_loss: 2338878935581851648.0000\n",
            "Epoch 31/50\n",
            "32/32 [==============================] - 0s 3ms/step - loss: 2336534227035619328.0000 - val_loss: 2338877011436503040.0000\n",
            "Epoch 32/50\n",
            "32/32 [==============================] - 0s 3ms/step - loss: 2336531478256549888.0000 - val_loss: 2338875087291154432.0000\n",
            "Epoch 33/50\n",
            "32/32 [==============================] - 0s 3ms/step - loss: 2336529828989108224.0000 - val_loss: 2338872888267898880.0000\n",
            "Epoch 34/50\n",
            "32/32 [==============================] - 0s 3ms/step - loss: 2336527355087945728.0000 - val_loss: 2338870689244643328.0000\n",
            "Epoch 35/50\n",
            "32/32 [==============================] - 0s 3ms/step - loss: 2336524881186783232.0000 - val_loss: 2338868490221387776.0000\n",
            "Epoch 36/50\n",
            "32/32 [==============================] - 0s 4ms/step - loss: 2336522132407713792.0000 - val_loss: 2338865741442318336.0000\n",
            "Epoch 37/50\n",
            "32/32 [==============================] - 0s 3ms/step - loss: 2336520208262365184.0000 - val_loss: 2338862992663248896.0000\n",
            "Epoch 38/50\n",
            "32/32 [==============================] - 0s 3ms/step - loss: 2336517459483295744.0000 - val_loss: 2338860518762086400.0000\n",
            "Epoch 39/50\n",
            "32/32 [==============================] - 0s 3ms/step - loss: 2336514435826319360.0000 - val_loss: 2338857495105110016.0000\n",
            "Epoch 40/50\n",
            "32/32 [==============================] - 0s 3ms/step - loss: 2336511687047249920.0000 - val_loss: 2338854471448133632.0000\n",
            "Epoch 41/50\n",
            "32/32 [==============================] - 0s 3ms/step - loss: 2336508113634459648.0000 - val_loss: 2338851447791157248.0000\n",
            "Epoch 42/50\n",
            "32/32 [==============================] - 0s 4ms/step - loss: 2336505089977483264.0000 - val_loss: 2338848149256273920.0000\n",
            "Epoch 43/50\n",
            "32/32 [==============================] - 0s 3ms/step - loss: 2336501516564692992.0000 - val_loss: 2338844575843483648.0000\n",
            "Epoch 44/50\n",
            "32/32 [==============================] - 0s 3ms/step - loss: 2336498218029809664.0000 - val_loss: 2338841277308600320.0000\n",
            "Epoch 45/50\n",
            "32/32 [==============================] - 0s 3ms/step - loss: 2336494644617019392.0000 - val_loss: 2338837703895810048.0000\n",
            "Epoch 46/50\n",
            "32/32 [==============================] - 0s 3ms/step - loss: 2336490796326322176.0000 - val_loss: 2338833855605112832.0000\n",
            "Epoch 47/50\n",
            "32/32 [==============================] - 0s 3ms/step - loss: 2336487222913531904.0000 - val_loss: 2338830007314415616.0000\n",
            "Epoch 48/50\n",
            "32/32 [==============================] - 0s 3ms/step - loss: 2336483099744927744.0000 - val_loss: 2338825609267904512.0000\n",
            "Epoch 49/50\n",
            "32/32 [==============================] - 0s 3ms/step - loss: 2336478701698416640.0000 - val_loss: 2338821486099300352.0000\n",
            "Epoch 50/50\n",
            "32/32 [==============================] - 0s 3ms/step - loss: 2336474028773998592.0000 - val_loss: 2338817088052789248.0000\n"
          ]
        }
      ]
    },
    {
      "cell_type": "code",
      "source": [
        "# Evaluation\n",
        "y_pred = model.predict(X_test_scaled)\n",
        "mae = mean_absolute_error(y_test, y_pred)\n",
        "mse = mean_squared_error(y_test, y_pred)\n",
        "r2 = r2_score(y_test, y_pred)\n",
        "print(\"Mean Absolute Error (seconds):\", mae)\n",
        "print(\"Mean Squared Error (seconds^2):\", mse)\n",
        "print(\"R-squared:\", r2)"
      ],
      "metadata": {
        "colab": {
          "base_uri": "https://localhost:8080/"
        },
        "id": "F0Z_kdVRxnjk",
        "outputId": "ed2ad62a-8208-4f8a-ce79-67660ba49e00"
      },
      "execution_count": null,
      "outputs": [
        {
          "output_type": "stream",
          "name": "stdout",
          "text": [
            "8/8 [==============================] - 0s 2ms/step\n",
            "Mean Absolute Error (seconds): 1529279978.754047\n",
            "Mean Squared Error (seconds^2): 2.338817060127203e+18\n",
            "R-squared: -19519.553926894965\n"
          ]
        }
      ]
    }
  ]
}