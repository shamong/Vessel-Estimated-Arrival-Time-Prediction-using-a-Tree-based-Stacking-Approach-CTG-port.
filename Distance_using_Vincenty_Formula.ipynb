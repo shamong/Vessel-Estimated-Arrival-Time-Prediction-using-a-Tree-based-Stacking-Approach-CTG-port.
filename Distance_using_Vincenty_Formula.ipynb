{
  "nbformat": 4,
  "nbformat_minor": 0,
  "metadata": {
    "colab": {
      "provenance": []
    },
    "kernelspec": {
      "name": "python3",
      "display_name": "Python 3"
    },
    "language_info": {
      "name": "python"
    }
  },
  "cells": [
    {
      "cell_type": "markdown",
      "source": [
        "Importing Libraries"
      ],
      "metadata": {
        "id": "Na1oyF8Mm4yi"
      }
    },
    {
      "cell_type": "code",
      "execution_count": null,
      "metadata": {
        "id": "CnGAwEOMmxnN"
      },
      "outputs": [],
      "source": [
        "import pandas as pd\n",
        "import numpy as np\n",
        "import math"
      ]
    },
    {
      "cell_type": "markdown",
      "source": [
        "Reading the AIS data and Extracting Latitude, Longitude, and Time Columns"
      ],
      "metadata": {
        "id": "Qxi5Q9nynAOT"
      }
    },
    {
      "cell_type": "code",
      "source": [
        "# Read CSV file into DataFrame\n",
        "df = pd.read_csv(r\"/content/209030000 J31.csv\")\n",
        "\n",
        "# Extract latitude, longitude, and time columns\n",
        "latitudes = df[\"LAT\"].values\n",
        "longitudes = df[\"LON\"].values\n",
        "times = pd.to_datetime(df[\"BaseDateTime\"], format=\"%Y-%m-%dT%H:%M:%S\")"
      ],
      "metadata": {
        "id": "CXeuaAONnCaK"
      },
      "execution_count": null,
      "outputs": []
    },
    {
      "cell_type": "markdown",
      "source": [
        "Vincenty Formula"
      ],
      "metadata": {
        "id": "qFQeg7s-nOaU"
      }
    },
    {
      "cell_type": "code",
      "source": [
        "def vincenty(lat1, lon1, lat2, lon2):\n",
        "    # WGS-84 ellipsiod parameters\n",
        "    a = 6378137.0  # semi-major axis in meters\n",
        "    f = 1 / 298.257223563  # flattening\n",
        "\n",
        "    # Convert latitude and longitude from degrees to radians\n",
        "    phi1 = math.radians(lat1)\n",
        "    phi2 = math.radians(lat2)\n",
        "    lambda1 = math.radians(lon1)\n",
        "    lambda2 = math.radians(lon2)\n",
        "\n",
        "    # U1, U2 and LAMBDA are intermediates for later calculations\n",
        "    U1 = math.atan((1 - f) * math.tan(phi1))\n",
        "    U2 = math.atan((1 - f) * math.tan(phi2))\n",
        "    LAMBDA = lambda2 - lambda1\n",
        "\n",
        "    # Initial guess for sigma (angular distance between points)\n",
        "    sigma = 0\n",
        "\n",
        "    # Iteratively solve for sigma until change is negligible\n",
        "    for _ in range(1000):  # max iterations set to 1000\n",
        "        sin_sigma = math.sqrt((math.cos(U2) * math.sin(LAMBDA)) ** 2 +\n",
        "                              (math.cos(U1) * math.sin(U2) - math.sin(U1) * math.cos(U2) * math.cos(LAMBDA)) ** 2)\n",
        "        cos_sigma = math.sin(U1) * math.sin(U2) + math.cos(U1) * math.cos(U2) * math.cos(LAMBDA)\n",
        "        sigma_prev = sigma\n",
        "        sigma = math.atan2(sin_sigma, cos_sigma)\n",
        "        if abs(sigma - sigma_prev) < 1e-12:  # convergence criterion\n",
        "            break\n",
        "\n",
        "    # Calculate the distance\n",
        "    A = (math.cos(U2) * math.sin(LAMBDA)) ** 2 + (math.cos(U1) * math.sin(U2) -\n",
        "                                                   math.sin(U1) * math.cos(U2) * math.cos(LAMBDA)) ** 2\n",
        "    B = math.sin(U1) * math.sin(U2) + math.cos(U1) * math.cos(U2) * math.cos(LAMBDA)\n",
        "    delta_sigma = f / 16 * A * (4 + f * (4 - 3 * A))\n",
        "    s = a * (sigma - delta_sigma)\n",
        "\n",
        "    return s"
      ],
      "metadata": {
        "id": "gp9EYQ41nQ6C"
      },
      "execution_count": null,
      "outputs": []
    },
    {
      "cell_type": "markdown",
      "source": [
        "Calculating Distances Between Consecutive Points"
      ],
      "metadata": {
        "id": "8jlI0InmnTa6"
      }
    },
    {
      "cell_type": "code",
      "source": [
        "# Calculate distances between consecutive points\n",
        "total_distance = 0.0\n",
        "for i in range(1, len(latitudes)):\n",
        "    lat1, lon1 = latitudes[i - 1], longitudes[i - 1]\n",
        "    lat2, lon2 = latitudes[i], longitudes[i]\n",
        "    distance = vincenty(lat1, lon1, lat2, lon2)\n",
        "    total_distance += distance\n",
        "    distancekm = total_distance/1000\n",
        "\n",
        "print(\"Total distance traveled by the ship:\", distancekm, \"kilometers\")"
      ],
      "metadata": {
        "colab": {
          "base_uri": "https://localhost:8080/"
        },
        "id": "4g9JeLycnWB5",
        "outputId": "61defbcd-0591-49fa-cef0-c038f8077481"
      },
      "execution_count": null,
      "outputs": [
        {
          "output_type": "stream",
          "name": "stdout",
          "text": [
            "Total distance traveled by the ship: 1040.3067632689995 kilometers\n"
          ]
        }
      ]
    },
    {
      "cell_type": "markdown",
      "source": [
        "Calculating Total Time Elapsed"
      ],
      "metadata": {
        "id": "y7oLJVJ_ncpB"
      }
    },
    {
      "cell_type": "code",
      "source": [
        "# Calculate total time elapsed\n",
        "total_time = times.iloc[-1] - times.iloc[0]  # Assuming the timestamps are sorted\n",
        "total_time_seconds = total_time.total_seconds()"
      ],
      "metadata": {
        "id": "DB_drZMOnfYq"
      },
      "execution_count": null,
      "outputs": []
    },
    {
      "cell_type": "markdown",
      "source": [
        "Calculating Average Speed"
      ],
      "metadata": {
        "id": "a628_x88niKS"
      }
    },
    {
      "cell_type": "code",
      "source": [
        "# Calculate average speed\n",
        "average_speed = total_distance / total_time_seconds  # in meters per second\n",
        "\n",
        "# Convert average speed to kilometers per hour (optional)\n",
        "average_speed_kmh = average_speed * 3.6  # 1 m/s = 3.6 km/h\n",
        "\n",
        "print(\"Average speed of the ship:\", average_speed_kmh, \"kilometers per hour\")"
      ],
      "metadata": {
        "colab": {
          "base_uri": "https://localhost:8080/"
        },
        "id": "2RqhbduwnkS5",
        "outputId": "b3b53f9f-6df3-467a-b3af-d06397951e33"
      },
      "execution_count": null,
      "outputs": [
        {
          "output_type": "stream",
          "name": "stdout",
          "text": [
            "Average speed of the ship: -18.52727984450578 kilometers per hour\n"
          ]
        }
      ]
    },
    {
      "cell_type": "markdown",
      "source": [
        "Starting Time of the Voyage"
      ],
      "metadata": {
        "id": "cV-6OFd6qTC5"
      }
    },
    {
      "cell_type": "code",
      "source": [
        "# Calculate starting time\n",
        "start_time = times.iloc[0]  # Get the timestamp of the first recorded data point\n",
        "\n",
        "print(\"Starting Time:\", start_time)"
      ],
      "metadata": {
        "colab": {
          "base_uri": "https://localhost:8080/"
        },
        "id": "i4R4Z8kkqLA_",
        "outputId": "c55af09c-b5c1-4b44-bd32-7c424c7a29a7"
      },
      "execution_count": null,
      "outputs": [
        {
          "output_type": "stream",
          "name": "stdout",
          "text": [
            "Starting Time: 2018-07-21 04:44:00\n"
          ]
        }
      ]
    },
    {
      "cell_type": "markdown",
      "source": [
        "Calculating Estimated Time of Arrival (ETA)"
      ],
      "metadata": {
        "id": "3Oshh8SJnm8J"
      }
    },
    {
      "cell_type": "code",
      "source": [
        "# Calculate ETA\n",
        "# Assume the ship is currently at the last recorded data point in the dataset\n",
        "current_time = times.iloc[-1]  # Get the timestamp of the last recorded data point\n",
        "\n",
        "# Calculate time required to cover the total distance at the average speed\n",
        "eta_seconds = total_distance / average_speed\n",
        "\n",
        "# Calculate ETA by adding the time required to the current time\n",
        "eta_time = current_time + pd.Timedelta(seconds=eta_seconds)\n",
        "\n",
        "print(\"Estimated Time of Arrival (ETA):\", eta_time)"
      ],
      "metadata": {
        "colab": {
          "base_uri": "https://localhost:8080/"
        },
        "id": "7X-4T0fPnpR5",
        "outputId": "c531bdf7-a6a1-4bc0-9e22-b97911446a64"
      },
      "execution_count": null,
      "outputs": [
        {
          "output_type": "stream",
          "name": "stdout",
          "text": [
            "Estimated Time of Arrival (ETA): 2018-07-16 12:26:00\n"
          ]
        }
      ]
    },
    {
      "cell_type": "code",
      "source": [
        "# View the first row\n",
        "print(\"First row:\")\n",
        "print(df.head(1))\n",
        "\n",
        "# View the last row\n",
        "print(\"\\nLast row:\")\n",
        "print(df.tail(1))\n",
        "\n",
        "print(\"\\nAverage speed of the ship:\", average_speed_kmh, \"kilometers per hour\")\n",
        "\n",
        "print(\"Total distance traveled by the ship:\", distancekm, \"kilometers\")\n",
        "\n",
        "print(\"\\nEstimated Time of Arrival (ETA):\", eta_time)"
      ],
      "metadata": {
        "id": "_q9wAji9eJxI",
        "outputId": "0b1b3106-1235-45ea-ccb5-f65a6f2e0904",
        "colab": {
          "base_uri": "https://localhost:8080/"
        }
      },
      "execution_count": null,
      "outputs": [
        {
          "output_type": "stream",
          "name": "stdout",
          "text": [
            "First row:\n",
            "        MMSI         BaseDateTime       LAT       LON  SOG    COG  Heading  \\\n",
            "0  209030000  2018-07-21T04:44:00  58.38182  24.47772  0.0  206.0      206   \n",
            "\n",
            "   VesselName  IMO  CallSign  VesselType  Status  Length  Width  Draft  Cargo  \\\n",
            "0         NaN  NaN       NaN          70     NaN     NaN     15    5.3     70   \n",
            "\n",
            "  TransceiverClass  \n",
            "0               IB  \n",
            "\n",
            "Last row:\n",
            "          MMSI         BaseDateTime       LAT       LON  SOG    COG  Heading  \\\n",
            "285  209030000  2018-07-18T20:35:00  54.36555  10.14277  0.0  105.0      105   \n",
            "\n",
            "     VesselName  IMO  CallSign  VesselType  Status  Length  Width  Draft  \\\n",
            "285         NaN  NaN       NaN          70     NaN     NaN     15    5.3   \n",
            "\n",
            "     Cargo TransceiverClass  \n",
            "285     70               IB  \n",
            "\n",
            "Average speed of the ship: -18.52727984450578 kilometers per hour\n",
            "Total distance traveled by the ship: 1040.3067632689995 kilometers\n",
            "\n",
            "Estimated Time of Arrival (ETA): 2018-07-16 12:26:00\n"
          ]
        }
      ]
    },
    {
      "cell_type": "markdown",
      "source": [
        "Source"
      ],
      "metadata": {
        "id": "3cW4gTCooPgL"
      }
    },
    {
      "cell_type": "code",
      "source": [
        "# https://nathanrooy.github.io/posts/2016-12-18/vincenty-formula-with-python/\n",
        "# https://pypi.org/project/vincenty/ For 2 Cities, we do for 2 Consecutive Points\n",
        "# https://www.johndcook.com/blog/2018/11/24/spheroid-distance/\n",
        "# https://codereview.stackexchange.com/questions/274709/vincentys-distance-direct-formulae-numpy"
      ],
      "metadata": {
        "id": "N9YJpu6ToOq6"
      },
      "execution_count": null,
      "outputs": []
    }
  ]
}