{
  "nbformat": 4,
  "nbformat_minor": 0,
  "metadata": {
    "colab": {
      "provenance": []
    },
    "kernelspec": {
      "name": "python3",
      "display_name": "Python 3"
    },
    "language_info": {
      "name": "python"
    }
  },
  "cells": [
    {
      "cell_type": "code",
      "execution_count": null,
      "metadata": {
        "id": "1ieB7co1sHO7"
      },
      "outputs": [],
      "source": [
        "import pandas as pd\n",
        "import numpy as np\n",
        "from sklearn.model_selection import train_test_split\n",
        "from sklearn.linear_model import LinearRegression\n",
        "from sklearn.metrics import mean_absolute_error, mean_squared_error\n",
        "from sklearn.model_selection import cross_val_score"
      ]
    },
    {
      "cell_type": "code",
      "source": [
        "data = pd.read_csv(r\"/content/FeatureEngineering - Sheet1.csv\")\n",
        "\n",
        "# Inspect your data\n",
        "print(data.head())\n",
        "print(data.info())\n",
        "print(data.describe())\n",
        "print(data.isna().sum())"
      ],
      "metadata": {
        "colab": {
          "base_uri": "https://localhost:8080/"
        },
        "id": "vqIoRQEysOg_",
        "outputId": "2fc0769c-a3e6-4356-dea7-b562cfb081ea"
      },
      "execution_count": null,
      "outputs": [
        {
          "output_type": "stream",
          "name": "stdout",
          "text": [
            "        MMSI        DepartureTime      LATd      LONd          ArrivalTime  \\\n",
            "0  205366000  2017-11-26 19:51:00  57.40660  21.53463  2017-11-26 19:51:00   \n",
            "1  205366000  2017-11-27 13:18:00  57.40660  21.53437  2017-12-28 13:57:00   \n",
            "2  205366000   2018-06-02 7:38:00  54.16003  12.14130   2018-06-03 5:43:00   \n",
            "3  205366000  2018-06-03 12:16:00  57.59602  11.69184   2018-06-08 5:43:00   \n",
            "4  205366000   2018-09-15 8:27:00  59.42259  27.72447  2018-10-01 15:16:00   \n",
            "\n",
            "       LATa      LONa  AVGSPDkmph  DistanceKm  VesselType  Length  Width  \\\n",
            "0  57.40660  21.53463       28.65   723.43028        80.0   143.0   21.0   \n",
            "1  54.16002  12.14124        2.73  2030.43443        80.0   143.0   21.0   \n",
            "2  57.59724  11.69437       21.09   465.67234        80.0   143.0   21.0   \n",
            "3  54.16005  12.14124        5.49   622.78374        80.0   143.0   21.0   \n",
            "4  54.16008  12.14128        6.03  2356.37863        80.0   143.0   21.0   \n",
            "\n",
            "   Draft  \n",
            "0    8.2  \n",
            "1    8.2  \n",
            "2    8.2  \n",
            "3    8.2  \n",
            "4    8.2  \n",
            "<class 'pandas.core.frame.DataFrame'>\n",
            "RangeIndex: 1250 entries, 0 to 1249\n",
            "Data columns (total 13 columns):\n",
            " #   Column         Non-Null Count  Dtype  \n",
            "---  ------         --------------  -----  \n",
            " 0   MMSI           1250 non-null   int64  \n",
            " 1   DepartureTime  1250 non-null   object \n",
            " 2   LATd           1250 non-null   float64\n",
            " 3   LONd           1250 non-null   float64\n",
            " 4   ArrivalTime    1250 non-null   object \n",
            " 5   LATa           1250 non-null   float64\n",
            " 6   LONa           1250 non-null   float64\n",
            " 7   AVGSPDkmph     1250 non-null   float64\n",
            " 8   DistanceKm     1250 non-null   float64\n",
            " 9   VesselType     1250 non-null   float64\n",
            " 10  Length         1250 non-null   float64\n",
            " 11  Width          1250 non-null   float64\n",
            " 12  Draft          1250 non-null   float64\n",
            "dtypes: float64(10), int64(1), object(2)\n",
            "memory usage: 127.1+ KB\n",
            "None\n",
            "               MMSI         LATd         LONd         LATa         LONa  \\\n",
            "count  1.250000e+03  1250.000000  1250.000000  1250.000000  1250.000000   \n",
            "mean   4.082065e+08    56.426478    15.080739    57.911322    20.608462   \n",
            "std    1.414919e+08     2.578886     5.851866     2.574397     8.244196   \n",
            "min    2.053660e+08    53.560480     9.423990    53.891450     9.423970   \n",
            "25%    3.056890e+08    54.366040    10.143060    55.617980    11.804100   \n",
            "50%    4.090140e+08    55.515945    12.122785    58.897090    21.188595   \n",
            "75%    5.095300e+08    58.137530    20.200630    59.881020    30.198490   \n",
            "max    6.112043e+08    65.547070    30.231950    65.544720    30.232220   \n",
            "\n",
            "        AVGSPDkmph   DistanceKm   VesselType       Length        Width  \\\n",
            "count  1250.000000  1250.000000  1250.000000  1250.000000  1250.000000   \n",
            "mean     16.202880   911.479533    70.560000   109.032000    16.456000   \n",
            "std       5.591207   628.166782     2.300137    30.726495     5.578186   \n",
            "min       1.320000   136.735930    70.000000    79.000000    10.000000   \n",
            "25%      13.980000   398.474380    70.000000    88.000000    12.000000   \n",
            "50%      16.470000   792.276165    70.000000    89.000000    14.000000   \n",
            "75%      18.950000  1459.180000    70.000000   138.000000    20.000000   \n",
            "max      30.180000  4772.070000    80.000000   229.000000    46.000000   \n",
            "\n",
            "             Draft  \n",
            "count  1250.000000  \n",
            "mean      6.249200  \n",
            "std       1.794682  \n",
            "min       3.400000  \n",
            "25%       5.000000  \n",
            "50%       5.500000  \n",
            "75%       7.600000  \n",
            "max      15.300000  \n",
            "MMSI             0\n",
            "DepartureTime    0\n",
            "LATd             0\n",
            "LONd             0\n",
            "ArrivalTime      0\n",
            "LATa             0\n",
            "LONa             0\n",
            "AVGSPDkmph       0\n",
            "DistanceKm       0\n",
            "VesselType       0\n",
            "Length           0\n",
            "Width            0\n",
            "Draft            0\n",
            "dtype: int64\n"
          ]
        }
      ]
    },
    {
      "cell_type": "code",
      "source": [
        "# Convert timestamps to datetime format (Ensure correct format strings)\n",
        "data['DepartureTime'] = pd.to_datetime(data['DepartureTime'], format=\"%Y-%m-%d %H:%M:%S\")\n",
        "data['ArrivalTime'] = pd.to_datetime(data['ArrivalTime'], format=\"%Y-%m-%d %H:%M:%S\")\n",
        "\n",
        "# Handle missing values\n",
        "data['ArrivalTime'].fillna(method='ffill', inplace=True)  # Adjust missing value method if needed\n",
        "\n",
        "# Calculate travel duration\n",
        "data['TravelDuration (seconds)'] = (data['ArrivalTime'] - data['DepartureTime']).dt.total_seconds()"
      ],
      "metadata": {
        "id": "HcTXIxxmsRRH"
      },
      "execution_count": null,
      "outputs": []
    },
    {
      "cell_type": "code",
      "source": [
        "X = data[['LATd', 'LONd', 'LATa', 'LONa', 'AVGSPDkmph', 'DistanceKm', 'VesselType', 'Length', 'Width', 'Draft']]\n",
        "y = data['TravelDuration (seconds)']"
      ],
      "metadata": {
        "id": "mseKqX0tsouo"
      },
      "execution_count": null,
      "outputs": []
    },
    {
      "cell_type": "code",
      "source": [
        "X_train, X_test, y_train, y_test = train_test_split(X, y, test_size=0.2, random_state=42)"
      ],
      "metadata": {
        "id": "RF1-XOySsyFE"
      },
      "execution_count": null,
      "outputs": []
    },
    {
      "cell_type": "code",
      "source": [
        "model = LinearRegression()\n",
        "model.fit(X_train, y_train)\n",
        "\n",
        "y_pred = model.predict(X_test)\n",
        "\n",
        "mae = mean_absolute_error(y_test, y_pred)\n",
        "mse = mean_squared_error(y_test, y_pred)\n",
        "print(\"Mean Absolute Error:\", mae)\n",
        "print(\"Mean Squared Error:\", mse)\n",
        "\n",
        "r2 = model.score(X_test, y_test)\n",
        "print(\"R-squared:\", r2)"
      ],
      "metadata": {
        "colab": {
          "base_uri": "https://localhost:8080/"
        },
        "id": "4dP5t8rFszot",
        "outputId": "1c3e2bd7-fea0-4513-9900-cdef3e3633c0"
      },
      "execution_count": null,
      "outputs": [
        {
          "output_type": "stream",
          "name": "stdout",
          "text": [
            "Mean Absolute Error: 132807.69417914\n",
            "Mean Squared Error: 47566155269.873795\n",
            "R-squared: 0.7633742148562863\n"
          ]
        }
      ]
    },
    {
      "cell_type": "code",
      "source": [
        "# Perform cross-validation for MAE, MSE, and R2\n",
        "cv_mae = -cross_val_score(model, X_train, y_train, cv=5, scoring='neg_mean_absolute_error').mean()\n",
        "cv_mse = -cross_val_score(model, X_train, y_train, cv=5, scoring='neg_mean_squared_error').mean()\n",
        "cv_r2 = cross_val_score(model, X_train, y_train, cv=5, scoring='r2').mean()\n",
        "\n",
        "print(\"Cross-Validation Mean Absolute Error (MAE):\", cv_mae)\n",
        "print(\"Cross-Validation Mean Squared Error (MSE):\", cv_mse)\n",
        "print(\"Cross-Validation R-squared (R2):\", cv_r2)"
      ],
      "metadata": {
        "colab": {
          "base_uri": "https://localhost:8080/"
        },
        "id": "3_lMAXpLC0Vs",
        "outputId": "c69b2573-5616-403e-c1ee-025f3ee3eecf"
      },
      "execution_count": null,
      "outputs": [
        {
          "output_type": "stream",
          "name": "stdout",
          "text": [
            "Cross-Validation Mean Absolute Error (MAE): 122101.1920611118\n",
            "Cross-Validation Mean Squared Error (MSE): 48067793250.44307\n",
            "Cross-Validation R-squared (R2): 0.6976940475783857\n"
          ]
        }
      ]
    },
    {
      "cell_type": "code",
      "source": [
        "import matplotlib.pyplot as plt\n",
        "\n",
        "plt.scatter(y_test, y_pred, label='Actual')\n",
        "plt.title('Linear Regression: Actual vs. Predicted')\n",
        "plt.xlabel('Actual')\n",
        "plt.ylabel('Predicted')\n",
        "plt.plot([min(y_test), max(y_test)], [min(y_test), max(y_test)], linestyle='--', color='r', label='Predictions')\n",
        "plt.legend()\n",
        "plt.show()"
      ],
      "metadata": {
        "colab": {
          "base_uri": "https://localhost:8080/",
          "height": 472
        },
        "id": "EPosS3LwDKxl",
        "outputId": "61980f13-1f64-43cb-e439-2cf449cfa2de"
      },
      "execution_count": null,
      "outputs": [
        {
          "output_type": "display_data",
          "data": {
            "text/plain": [
              "<Figure size 640x480 with 1 Axes>"
            ],
            "image/png": "[encoded data removed]"
          },
          "metadata": {}
        }
      ]
    }
  ]
}