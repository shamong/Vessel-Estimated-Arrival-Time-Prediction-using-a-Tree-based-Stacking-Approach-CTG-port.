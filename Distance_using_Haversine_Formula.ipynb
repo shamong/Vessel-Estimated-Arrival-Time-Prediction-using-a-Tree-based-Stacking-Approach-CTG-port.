{
  "nbformat": 4,
  "nbformat_minor": 0,
  "metadata": {
    "colab": {
      "provenance": []
    },
    "kernelspec": {
      "name": "python3",
      "display_name": "Python 3"
    },
    "language_info": {
      "name": "python"
    }
  },
  "cells": [
    {
      "cell_type": "markdown",
      "source": [
        "Importing Libraries"
      ],
      "metadata": {
        "id": "JAnviDxsWbvk"
      }
    },
    {
      "cell_type": "code",
      "execution_count": null,
      "metadata": {
        "id": "JVeFyhHYWZ4p"
      },
      "outputs": [],
      "source": [
        "import pandas as pd\n",
        "import numpy as np\n",
        "import math"
      ]
    },
    {
      "cell_type": "markdown",
      "source": [
        "Haversine Formula"
      ],
      "metadata": {
        "id": "7fnpCKv8Wlg6"
      }
    },
    {
      "cell_type": "code",
      "source": [
        "def haversine(lat1, lon1, lat2, lon2):\n",
        "    R = 6371.0  # Radius of the Earth in kilometers\n",
        "\n",
        "    # Convert latitude and longitude from degrees to radians\n",
        "    lat1 = math.radians(lat1)\n",
        "    lon1 = math.radians(lon1)\n",
        "    lat2 = math.radians(lat2)\n",
        "    lon2 = math.radians(lon2)\n",
        "\n",
        "    # Calculate differences in latitude and longitude\n",
        "    dlat = lat2 - lat1\n",
        "    dlon = lon2 - lon1\n",
        "\n",
        "    # Calculate Haversine of half the differences\n",
        "    a = math.sin(dlat / 2)**2 + math.cos(lat1) * math.cos(lat2) * math.sin(dlon / 2)**2\n",
        "\n",
        "    # Calculate central angle\n",
        "    c = 2 * math.atan2(math.sqrt(a), math.sqrt(1 - a))\n",
        "\n",
        "    # Calculate distance\n",
        "    distance = R * c\n",
        "\n",
        "    return distance"
      ],
      "metadata": {
        "id": "Rl3rXkVkX7ez"
      },
      "execution_count": null,
      "outputs": []
    },
    {
      "cell_type": "markdown",
      "source": [
        "Reading the AIS data and Extracting Latitude and Longitude Columns"
      ],
      "metadata": {
        "id": "UYJjP3jAX-zB"
      }
    },
    {
      "cell_type": "code",
      "source": [
        "# Read CSV file into DataFrame\n",
        "df = pd.read_csv(r\"/content/7. 209273000 (2).csv\")\n",
        "\n",
        "# Extract latitude and longitude columns\n",
        "latitudes = df[\"LAT\"].values\n",
        "longitudes = df[\"LON\"].values"
      ],
      "metadata": {
        "id": "7K5Kv0LuYBrJ"
      },
      "execution_count": null,
      "outputs": []
    },
    {
      "cell_type": "markdown",
      "source": [
        "Calculating Distances Between Consecutive Points"
      ],
      "metadata": {
        "id": "kyNFX8bOYcU5"
      }
    },
    {
      "cell_type": "code",
      "source": [
        "# Calculate distances between consecutive points\n",
        "total_distance = 0.0\n",
        "for i in range(1, len(latitudes)):\n",
        "    lat1, lon1 = latitudes[i - 1], longitudes[i - 1]\n",
        "    lat2, lon2 = latitudes[i], longitudes[i]\n",
        "    distance = haversine(lat1, lon1, lat2, lon2)\n",
        "    total_distance += distance\n",
        "\n",
        "print(\"Total distance traveled by the ship:\", total_distance, \"kilometers\")"
      ],
      "metadata": {
        "colab": {
          "base_uri": "https://localhost:8080/"
        },
        "id": "ytix2JIrYfTi",
        "outputId": "5cb3b493-8461-41b8-b5cc-4daec9c8d7e9"
      },
      "execution_count": null,
      "outputs": [
        {
          "output_type": "stream",
          "name": "stdout",
          "text": [
            "Total distance traveled by the ship: 789.8815157361539 kilometers\n"
          ]
        }
      ]
    },
    {
      "cell_type": "markdown",
      "source": [
        "Calculating Average Speed"
      ],
      "metadata": {
        "id": "z7_xZ1d-eJBq"
      }
    },
    {
      "cell_type": "code",
      "source": [
        "# Calculate time differences between consecutive points\n",
        "df[\"BaseDateTime\"] = pd.to_datetime(df[\"BaseDateTime\"])  # Convert BaseDateTime to datetime format\n",
        "time_diffs = df[\"BaseDateTime\"].diff().dt.total_seconds()  # Calculate time differences in seconds\n",
        "\n",
        "# Calculate total time elapsed\n",
        "total_time = time_diffs.sum()  # Total time elapsed in seconds\n",
        "\n",
        "# Convert total time to hours\n",
        "total_time_hours = total_time / 3600  # 1 hour = 3600 seconds\n",
        "\n",
        "# Calculate average speed\n",
        "average_speed = total_distance / total_time_hours  # Average speed in kilometers per hour\n",
        "print(\"Average speed of the ship:\", average_speed, \"km/h\")"
      ],
      "metadata": {
        "colab": {
          "base_uri": "https://localhost:8080/"
        },
        "id": "JdQRIwlieFfT",
        "outputId": "dabaebe6-0658-427d-93e8-f992b27162ec"
      },
      "execution_count": null,
      "outputs": [
        {
          "output_type": "stream",
          "name": "stdout",
          "text": [
            "Average speed of the ship: 14.155582719285913 km/h\n"
          ]
        }
      ]
    },
    {
      "cell_type": "markdown",
      "source": [
        "Starting Time of the Voyage"
      ],
      "metadata": {
        "id": "f-Z1vNNGqgFs"
      }
    },
    {
      "cell_type": "code",
      "source": [
        "# Calculate starting time\n",
        "start_time = df[\"BaseDateTime\"].iloc[0]  # Get the timestamp of the first recorded data point\n",
        "\n",
        "print(\"Starting Time:\", start_time)"
      ],
      "metadata": {
        "colab": {
          "base_uri": "https://localhost:8080/"
        },
        "id": "Sj41klfTqgqz",
        "outputId": "b27bcd80-90d8-44ef-8e41-900aba2ba89a"
      },
      "execution_count": null,
      "outputs": [
        {
          "output_type": "stream",
          "name": "stdout",
          "text": [
            "Starting Time: 2017-12-22 23:04:00\n"
          ]
        }
      ]
    },
    {
      "cell_type": "markdown",
      "source": [
        "Calculating Estimated Time of Arrival (ETA)"
      ],
      "metadata": {
        "id": "CeoV7pdKe7C3"
      }
    },
    {
      "cell_type": "code",
      "source": [
        "# Calculate ETA\n",
        "# Assume the ship is currently at the last recorded data point in the dataset\n",
        "current_time = df[\"BaseDateTime\"].iloc[-1]  # Get the timestamp of the last recorded data point\n",
        "eta_hours = total_distance / average_speed  # Calculate time required to cover the total distance at the average speed\n",
        "eta_time = current_time + pd.Timedelta(hours=eta_hours)  # Calculate ETA by adding the time required to the current time\n",
        "\n",
        "print(\"Estimated Time of Arrival (ETA):\", eta_time)"
      ],
      "metadata": {
        "colab": {
          "base_uri": "https://localhost:8080/"
        },
        "id": "Yu_fDvVqetVu",
        "outputId": "07e4afee-5447-4fff-e0d5-58b5a26ad788"
      },
      "execution_count": null,
      "outputs": [
        {
          "output_type": "stream",
          "name": "stdout",
          "text": [
            "Estimated Time of Arrival (ETA): 2017-12-27 14:40:00\n"
          ]
        }
      ]
    },
    {
      "cell_type": "markdown",
      "source": [
        "Source"
      ],
      "metadata": {
        "id": "L1gT8QznZVKs"
      }
    },
    {
      "cell_type": "code",
      "source": [
        "# https://rosettacode.org/wiki/Haversine_formula\n",
        "# https://nathanrooy.github.io/posts/2016-09-07/haversine-with-python/\n",
        "# https://www.geeksforgeeks.org/haversine-formula-to-find-distance-between-two-points-on-a-sphere/\n",
        "# https://www.igismap.com/haversine-formula-calculate-geographic-distance-earth/\n",
        "# https://pandas.pydata.org/pandas-docs/stable/reference/api/pandas.DataFrame.iloc.html\n",
        "# https://pandas.pydata.org/pandas-docs/stable/reference/api/pandas.Timedelta.html"
      ],
      "metadata": {
        "id": "IBQdwJCsZXPc"
      },
      "execution_count": null,
      "outputs": []
    }
  ]
}