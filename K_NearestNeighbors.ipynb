{
  "nbformat": 4,
  "nbformat_minor": 0,
  "metadata": {
    "colab": {
      "provenance": []
    },
    "kernelspec": {
      "name": "python3",
      "display_name": "Python 3"
    },
    "language_info": {
      "name": "python"
    }
  },
  "cells": [
    {
      "cell_type": "code",
      "execution_count": null,
      "metadata": {
        "id": "AtIxqH6KWWc3"
      },
      "outputs": [],
      "source": [
        "import pandas as pd\n",
        "import numpy as np\n",
        "from sklearn.neighbors import KNeighborsRegressor\n",
        "from sklearn.preprocessing import StandardScaler\n",
        "from sklearn.model_selection import train_test_split, GridSearchCV\n",
        "from sklearn.metrics import mean_absolute_error, mean_squared_error, r2_score"
      ]
    },
    {
      "cell_type": "code",
      "source": [
        "data = pd.read_csv('/content/FeatureEngineering - Sheet1.csv',\n",
        "                   parse_dates=['DepartureTime', 'ArrivalTime'],\n",
        "                   infer_datetime_format=True)\n",
        "\n",
        "# Inspect your data (Column names will reflect the new ones)\n",
        "print(data.head())\n",
        "print(data.info())\n",
        "print(data.describe())\n",
        "print(data.isna().sum())"
      ],
      "metadata": {
        "colab": {
          "base_uri": "https://localhost:8080/"
        },
        "id": "c9-NeUEeXZeO",
        "outputId": "3cb91842-c8d4-4d75-90f5-5e2b5510b511"
      },
      "execution_count": null,
      "outputs": [
        {
          "output_type": "stream",
          "name": "stderr",
          "text": [
            "<ipython-input-3-566676f07823>:1: FutureWarning: The argument 'infer_datetime_format' is deprecated and will be removed in a future version. A strict version of it is now the default, see https://pandas.pydata.org/pdeps/0004-consistent-to-datetime-parsing.html. You can safely remove this argument.\n",
            "  data = pd.read_csv('/content/FeatureEngineering - Sheet1.csv',\n"
          ]
        },
        {
          "output_type": "stream",
          "name": "stdout",
          "text": [
            "        MMSI       DepartureTime      LATd      LONd         ArrivalTime  \\\n",
            "0  205366000 2017-11-26 19:51:00  57.40660  21.53463 2017-11-26 19:51:00   \n",
            "1  205366000 2017-11-27 13:18:00  57.40660  21.53437 2017-12-28 13:57:00   \n",
            "2  205366000 2018-06-02 07:38:00  54.16003  12.14130 2018-06-03 05:43:00   \n",
            "3  205366000 2018-06-03 12:16:00  57.59602  11.69184 2018-06-08 05:43:00   \n",
            "4  205366000 2018-09-15 08:27:00  59.42259  27.72447 2018-10-01 15:16:00   \n",
            "\n",
            "       LATa      LONa  AVGSPDkmph  DistanceKm  VesselType  Length  Width  \\\n",
            "0  57.40660  21.53463       28.65   723.43028        80.0   143.0   21.0   \n",
            "1  54.16002  12.14124        2.73  2030.43443        80.0   143.0   21.0   \n",
            "2  57.59724  11.69437       21.09   465.67234        80.0   143.0   21.0   \n",
            "3  54.16005  12.14124        5.49   622.78374        80.0   143.0   21.0   \n",
            "4  54.16008  12.14128        6.03  2356.37863        80.0   143.0   21.0   \n",
            "\n",
            "   Draft  \n",
            "0    8.2  \n",
            "1    8.2  \n",
            "2    8.2  \n",
            "3    8.2  \n",
            "4    8.2  \n",
            "<class 'pandas.core.frame.DataFrame'>\n",
            "RangeIndex: 1250 entries, 0 to 1249\n",
            "Data columns (total 13 columns):\n",
            " #   Column         Non-Null Count  Dtype         \n",
            "---  ------         --------------  -----         \n",
            " 0   MMSI           1250 non-null   int64         \n",
            " 1   DepartureTime  1250 non-null   datetime64[ns]\n",
            " 2   LATd           1250 non-null   float64       \n",
            " 3   LONd           1250 non-null   float64       \n",
            " 4   ArrivalTime    1250 non-null   datetime64[ns]\n",
            " 5   LATa           1250 non-null   float64       \n",
            " 6   LONa           1250 non-null   float64       \n",
            " 7   AVGSPDkmph     1250 non-null   float64       \n",
            " 8   DistanceKm     1250 non-null   float64       \n",
            " 9   VesselType     1250 non-null   float64       \n",
            " 10  Length         1250 non-null   float64       \n",
            " 11  Width          1250 non-null   float64       \n",
            " 12  Draft          1250 non-null   float64       \n",
            "dtypes: datetime64[ns](2), float64(10), int64(1)\n",
            "memory usage: 127.1 KB\n",
            "None\n",
            "               MMSI               DepartureTime         LATd         LONd  \\\n",
            "count  1.250000e+03                        1250  1250.000000  1250.000000   \n",
            "mean   4.082065e+08  2018-06-08 03:31:47.280000    56.426478    15.080739   \n",
            "min    2.053660e+08         2017-11-01 11:02:00    53.560480     9.423990   \n",
            "25%    3.056890e+08         2018-01-28 14:54:15    54.366040    10.143060   \n",
            "50%    4.090140e+08         2018-07-19 17:49:30    55.515945    12.122785   \n",
            "75%    5.095300e+08         2018-09-23 14:11:45    58.137530    20.200630   \n",
            "max    6.112043e+08         2019-01-01 19:41:00    65.547070    30.231950   \n",
            "std    1.414919e+08                         NaN     2.578886     5.851866   \n",
            "\n",
            "                      ArrivalTime         LATa         LONa   AVGSPDkmph  \\\n",
            "count                        1250  1250.000000  1250.000000  1250.000000   \n",
            "mean   2018-06-11 05:14:09.600000    57.911322    20.608462    16.202880   \n",
            "min           2017-11-02 11:04:00    53.891450     9.423970     1.320000   \n",
            "25%           2018-01-31 00:30:30    55.617980    11.804100    13.980000   \n",
            "50%           2018-07-22 10:25:30    58.897090    21.188595    16.470000   \n",
            "75%           2018-09-27 13:38:15    59.881020    30.198490    18.950000   \n",
            "max           2019-01-03 15:02:00    65.544720    30.232220    30.180000   \n",
            "std                           NaN     2.574397     8.244196     5.591207   \n",
            "\n",
            "        DistanceKm   VesselType       Length        Width        Draft  \n",
            "count  1250.000000  1250.000000  1250.000000  1250.000000  1250.000000  \n",
            "mean    911.479533    70.560000   109.032000    16.456000     6.249200  \n",
            "min     136.735930    70.000000    79.000000    10.000000     3.400000  \n",
            "25%     398.474380    70.000000    88.000000    12.000000     5.000000  \n",
            "50%     792.276165    70.000000    89.000000    14.000000     5.500000  \n",
            "75%    1459.180000    70.000000   138.000000    20.000000     7.600000  \n",
            "max    4772.070000    80.000000   229.000000    46.000000    15.300000  \n",
            "std     628.166782     2.300137    30.726495     5.578186     1.794682  \n",
            "MMSI             0\n",
            "DepartureTime    0\n",
            "LATd             0\n",
            "LONd             0\n",
            "ArrivalTime      0\n",
            "LATa             0\n",
            "LONa             0\n",
            "AVGSPDkmph       0\n",
            "DistanceKm       0\n",
            "VesselType       0\n",
            "Length           0\n",
            "Width            0\n",
            "Draft            0\n",
            "dtype: int64\n"
          ]
        }
      ]
    },
    {
      "cell_type": "code",
      "source": [
        "# Handle missing values (choose appropriate strategy)\n",
        "data.fillna(method='ffill', inplace=True)\n",
        "\n",
        "# Convert datetimes, calculate duration, and extract features\n",
        "data['DepartureTime'] = pd.to_datetime(data['DepartureTime'], format=\"%Y-%m-%d %H:%M:%S\")\n",
        "data['ArrivalTime'] = pd.to_datetime(data['ArrivalTime'], format=\"%Y-%m-%d %H:%M:%S\")\n",
        "data['TravelTime'] = data['ArrivalTime'] - data['DepartureTime']\n",
        "data['TravelTime_seconds'] = data['TravelTime'].dt.total_seconds()\n",
        "data['DepartureHour'] = data['DepartureTime'].dt.hour"
      ],
      "metadata": {
        "id": "JTZsmrIDXceR"
      },
      "execution_count": null,
      "outputs": []
    },
    {
      "cell_type": "code",
      "source": [
        "X = data[['LATd', 'LONd', 'LATa', 'LONa', 'AVGSPDkmph', 'DistanceKm', 'DepartureHour', 'VesselType', 'Length', 'Width', 'Draft']]\n",
        "y = data['TravelTime_seconds']"
      ],
      "metadata": {
        "id": "ucAhXzVRXiHD"
      },
      "execution_count": null,
      "outputs": []
    },
    {
      "cell_type": "code",
      "source": [
        "X_train, X_test, y_train, y_test = train_test_split(X, y, test_size=0.2, random_state=42)"
      ],
      "metadata": {
        "id": "ECli4-OGXygh"
      },
      "execution_count": null,
      "outputs": []
    },
    {
      "cell_type": "code",
      "source": [
        "# Feature scaling\n",
        "scaler = StandardScaler()\n",
        "X_train_scaled = scaler.fit_transform(X_train)\n",
        "X_test_scaled = scaler.transform(X_test)"
      ],
      "metadata": {
        "id": "yd7LHmi5Xqyg"
      },
      "execution_count": null,
      "outputs": []
    },
    {
      "cell_type": "code",
      "source": [
        "# Initial KNN model\n",
        "knn_model = KNeighborsRegressor()\n",
        "\n",
        "# Hyperparameter tuning\n",
        "param_grid = {\n",
        "    'n_neighbors': range(3, 15),  # Number of neighbors to consider\n",
        "    'weights': ['uniform', 'distance']  # Weighting scheme\n",
        "}\n",
        "\n",
        "grid_search = GridSearchCV(knn_model, param_grid, cv=5, scoring='neg_mean_squared_error')\n",
        "grid_search.fit(X_train_scaled, y_train)\n",
        "\n",
        "print(grid_search.best_params_)"
      ],
      "metadata": {
        "colab": {
          "base_uri": "https://localhost:8080/"
        },
        "id": "ivdfVHnLX7Fo",
        "outputId": "6a344b4b-b679-49ab-d656-55014bc2db7a"
      },
      "execution_count": null,
      "outputs": [
        {
          "output_type": "stream",
          "name": "stdout",
          "text": [
            "{'n_neighbors': 3, 'weights': 'distance'}\n"
          ]
        }
      ]
    },
    {
      "cell_type": "code",
      "source": [
        "best_params = grid_search.best_params_\n",
        "knn_model = KNeighborsRegressor(**best_params)\n",
        "knn_model.fit(X_train_scaled, y_train)\n",
        "\n",
        "y_pred = knn_model.predict(X_test_scaled)\n",
        "\n",
        "mae = mean_absolute_error(y_test, y_pred)\n",
        "mse = mean_squared_error(y_test, y_pred)\n",
        "r2 = r2_score(y_test, y_pred)\n",
        "\n",
        "print(\"Mean Absolute Error (Unix timestamps):\", mae)\n",
        "print(\"Mean Squared Error (Unix timestamps):\", mse)\n",
        "print(\"R-squared:\", r2)"
      ],
      "metadata": {
        "colab": {
          "base_uri": "https://localhost:8080/"
        },
        "id": "rIzXbg7ZYEfZ",
        "outputId": "203ee848-8ff1-44ed-9959-0708384a8c50"
      },
      "execution_count": null,
      "outputs": [
        {
          "output_type": "stream",
          "name": "stdout",
          "text": [
            "Mean Absolute Error (Unix timestamps): 34391.86742770948\n",
            "Mean Squared Error (Unix timestamps): 11127013476.355192\n",
            "R-squared: 0.9446468127346249\n"
          ]
        }
      ]
    },
    {
      "cell_type": "code",
      "source": [
        "from sklearn.model_selection import cross_validate\n",
        "\n",
        "# Perform cross-validation for MAE, MSE, and R2\n",
        "cv_scores = cross_validate(knn_model, X_train_scaled, y_train, cv=5,\n",
        "                           scoring=['neg_mean_squared_error', 'neg_mean_absolute_error', 'r2'])\n",
        "\n",
        "# Extract cross-validation scores for each metric\n",
        "cv_mse = -cv_scores['test_neg_mean_squared_error'].mean()  # MSE\n",
        "cv_mae = -cv_scores['test_neg_mean_absolute_error'].mean()  # MAE\n",
        "cv_r2 = cv_scores['test_r2'].mean()  # R-squared\n",
        "\n",
        "print(\"Cross-Validation Mean Squared Error:\", cv_mse)\n",
        "print(\"Cross-Validation Mean Absolute Error:\", cv_mae)\n",
        "print(\"Cross-Validation R-squared (R2):\", cv_r2)"
      ],
      "metadata": {
        "id": "KTmZBvNy0E97",
        "outputId": "689c45ee-d0bc-440d-e23f-f7ce6a7f5502",
        "colab": {
          "base_uri": "https://localhost:8080/"
        }
      },
      "execution_count": null,
      "outputs": [
        {
          "output_type": "stream",
          "name": "stdout",
          "text": [
            "Cross-Validation Mean Squared Error: 6214187918.301867\n",
            "Cross-Validation Mean Absolute Error: 27689.1196616195\n",
            "Cross-Validation R-squared (R2): 0.9617156972057694\n"
          ]
        }
      ]
    }
  ]
}